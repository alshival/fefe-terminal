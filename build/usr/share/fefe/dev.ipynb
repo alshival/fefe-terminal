{
 "cells": [
  {
   "cell_type": "code",
   "execution_count": 38,
   "metadata": {},
   "outputs": [
    {
     "ename": "OperationalError",
     "evalue": "no such column: source",
     "output_type": "error",
     "traceback": [
      "\u001b[0;31m---------------------------------------------------------------------------\u001b[0m",
      "\u001b[0;31mOperationalError\u001b[0m                          Traceback (most recent call last)",
      "Cell \u001b[0;32mIn[38], line 8\u001b[0m\n\u001b[1;32m      5\u001b[0m \u001b[38;5;28;01mfrom\u001b[39;00m \u001b[38;5;21;01mopenai\u001b[39;00m\u001b[38;5;21;01m.\u001b[39;00m\u001b[38;5;21;01mtypes\u001b[39;00m\u001b[38;5;21;01m.\u001b[39;00m\u001b[38;5;21;01mchat\u001b[39;00m\u001b[38;5;21;01m.\u001b[39;00m\u001b[38;5;21;01mchat_completion\u001b[39;00m \u001b[38;5;28;01mimport\u001b[39;00m Choice\n\u001b[1;32m      7\u001b[0m db \u001b[38;5;241m=\u001b[39m functions\u001b[38;5;241m.\u001b[39mdb_connect()\n\u001b[0;32m----> 8\u001b[0m messages \u001b[38;5;241m=\u001b[39m \u001b[43mfunctions\u001b[49m\u001b[38;5;241;43m.\u001b[39;49m\u001b[43mget_chat_history\u001b[49m\u001b[43m(\u001b[49m\u001b[43m)\u001b[49m\n",
      "File \u001b[0;32m~/Github/fefe-terminal/build/usr/share/fefe/src/functions.py:246\u001b[0m, in \u001b[0;36mget_chat_history\u001b[0;34m(limit)\u001b[0m\n\u001b[1;32m      0\u001b[0m <Error retrieving source code with stack_data see ipython/ipython#13598>\n",
      "\u001b[0;31mOperationalError\u001b[0m: no such column: source"
     ]
    }
   ],
   "source": [
    "from src import functions\n",
    "from openai.types import CompletionUsage\n",
    "from openai.types.chat import ChatCompletion, ChatCompletionMessage,ChatCompletionMessageToolCall\n",
    "from openai.types.chat.chat_completion_message_tool_call import Function\n",
    "from openai.types.chat.chat_completion import Choice\n",
    "\n",
    "messages = functions.get_chat_history()"
   ]
  }
 ],
 "metadata": {
  "language_info": {
   "name": "python"
  }
 },
 "nbformat": 4,
 "nbformat_minor": 2
}
